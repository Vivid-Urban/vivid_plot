{
  "nbformat": 4,
  "nbformat_minor": 0,
  "metadata": {
    "colab": {
      "provenance": []
    },
    "kernelspec": {
      "name": "python3",
      "display_name": "Python 3"
    },
    "language_info": {
      "name": "python"
    }
  },
  "cells": [
    {
      "cell_type": "markdown",
      "source": [
        "Install packages"
      ],
      "metadata": {
        "id": "GQxZGkYcslxW"
      }
    },
    {
      "cell_type": "code",
      "execution_count": null,
      "metadata": {
        "id": "Ts4epCsGsk74"
      },
      "outputs": [],
      "source": [
        "!pip install matplotlib==3.6.3\n",
        "!pip install basemap\n",
        "!pip install rasterio"
      ]
    },
    {
      "cell_type": "markdown",
      "source": [
        "Import packages"
      ],
      "metadata": {
        "id": "gLOgL2ItswWX"
      }
    },
    {
      "cell_type": "code",
      "source": [
        "from mpl_toolkits.basemap import Basemap\n",
        "import numpy as np\n",
        "import matplotlib.pyplot as plt\n",
        "from matplotlib.cm import get_cmap\n",
        "import rasterio   \n",
        "import numpy as np \n",
        "import matplotlib as mpl\n",
        "from mpl_toolkits.axes_grid1 import make_axes_locatable\n",
        "from PIL import Image"
      ],
      "metadata": {
        "id": "67Ziwt06s1n4"
      },
      "execution_count": null,
      "outputs": []
    },
    {
      "cell_type": "markdown",
      "source": [
        "Define function to read raster values\n",
        "Input: raster path (file_name), NA value in raster (na_value), scale factor (sf)\n",
        "Output: matrix of raster values (values), latitude values (lats), and longitude values (lons)."
      ],
      "metadata": {
        "id": "PIMX7MFet3zp"
      }
    },
    {
      "cell_type": "code",
      "source": [
        "def read_tif(file_name, na_value,sf):\n",
        "  with rasterio.open(file_name) as src:\n",
        "      values_ori = src.read(1)\n",
        "      height = values_ori.shape[0]\n",
        "      width = values_ori.shape[1]\n",
        "      cols, rows = np.meshgrid(np.arange(width), np.arange(height))\n",
        "      xs, ys = rasterio.transform.xy(src.transform, rows, cols)\n",
        "      lons= np.array(xs)\n",
        "      lats = np.array(ys)\n",
        "  values = np.ma.masked_equal(values_ori, value =na_value)*sf\n",
        "  return values,lons,lats"
      ],
      "metadata": {
        "id": "OLOVL1_tt-x-"
      },
      "execution_count": null,
      "outputs": []
    },
    {
      "cell_type": "markdown",
      "source": [
        "Define a function to plot global raster file. Input: daytime and nighttime LST raster values (nit_vs, day_vs), longitude and latitude values (lons,lats), viewing longitude and latitude (lat_r, lon_r), and save path for figures (save_path). Output: figures with differernt viewing longitude values."
      ],
      "metadata": {
        "id": "Buckmvhfu9TR"
      }
    },
    {
      "cell_type": "code",
      "source": [
        "def plot(nit_vs,day_vs,lons,lats,lat_r,lon_r,save_path):\n",
        "  m = Basemap(projection='ortho',lon_0=lon_r,lat_0=lat_r,resolution='l')\n",
        "  x1,y1=m(lons,lats)\n",
        "\n",
        "  fig, ax = plt.subplots(figsize=(3, 5))\n",
        "  plt.rcParams.update({'font.size': 10})\n",
        "  #plot nighttime\n",
        "  ax1 = fig.add_subplot(121)\n",
        "  levels=np.linspace(0,60,16)\n",
        "  cntr = m.contourf(x1, y1,nit_vs,levels,cmap=get_cmap(\"RdBu_r\"))\n",
        "  #add basemap\n",
        "  m.bluemarble()\n",
        "  ax1.title.set_text('Mid-nighttime')\n",
        "  #plot daytime\n",
        "  ax2 = fig.add_subplot(122)\n",
        "  cntr = m.contourf(x1, y1,day_vs,levels,cmap=get_cmap(\"RdBu_r\"))\n",
        "  m.bluemarble()\n",
        "  ax2.title.set_text('Mid-daytime')\n",
        "\n",
        "  # add color bar below chart\n",
        "  divider = make_axes_locatable(ax)\n",
        "  ax.axis('off')\n",
        "  cax = divider.new_vertical(size='4%', pad=-0.9, pack_start = True)\n",
        "  fig.add_axes(cax)\n",
        "  fig.colorbar(cntr, cax = cax, orientation = 'horizontal')\n",
        "  cax.set_xlabel('Land Surface Temperature (C)')\n",
        "  ax.axis('scaled')\n",
        "\n",
        "  # save figure\n",
        "  png_path=save_path+'/'+str(lon_r)+\"_\"+str(lat_r)+'.png'\n",
        "  plt.savefig(png_path,dpi=300,pad_inches =0.1,bbox_inches = 'tight')                     \n",
        "  plt.show() \n",
        "  print ('finish plotting '+str(lon_r))\n"
      ],
      "metadata": {
        "id": "Gnk90OGSv4X-"
      },
      "execution_count": null,
      "outputs": []
    },
    {
      "cell_type": "markdown",
      "source": [
        "Define a function to creat gif file. Input: save path for figures (save_path) and gif file (save_gif), viewing latitude (lat_r). Output: global_lst.gif file."
      ],
      "metadata": {
        "id": "VnUgIfQWCLf6"
      }
    },
    {
      "cell_type": "code",
      "source": [
        "def creat_gif(save_path,save_gif,lat_r):\n",
        "  frames = []\n",
        "  lon_rs1=list(range(50,185,5))\n",
        "  lon_rs2=list(range(-180,50,5))\n",
        "  lon_rs=lon_rs1+lon_rs2\n",
        "  for lon_r in lon_rs:\n",
        "      png_path=save_path+'/'+str(lon_r)+\"_\"+str(lat_r)+'.png'\n",
        "      frames.append(Image.open(png_path))\n",
        "\n",
        "  frames = [frame.convert('PA') for frame in frames]\n",
        "\n",
        "  frames[0].save(save_gif, format='GIF',\n",
        "                append_images=frames[1:],\n",
        "                save_all=True,\n",
        "                duration=0.3, loop=0, transparency=0)"
      ],
      "metadata": {
        "id": "MnThJYHhCMJN"
      },
      "execution_count": null,
      "outputs": []
    },
    {
      "cell_type": "code",
      "source": [
        "save_path='/content/drive/MyDrive/LST_plot'\n",
        "nit_img = '/content/drive/MyDrive/lst_nit_lg0.tif'\n",
        "day_img = '/content/drive/MyDrive/lst_day_lg0.tif'\n",
        "save_gif='/content/drive/MyDrive/globe_lst.gif'\n",
        "\n",
        "# get raster values\n",
        "nit_vs,lons,lats=read_tif(nit_img,-32768,0.1)\n",
        "day_vs,lons,lats=read_tif(day_img,-32768,0.1)\n",
        "# plot each scene for gif\n",
        "lon_rs=list(range(-180,185,5))\n",
        "lat_r=20\n",
        "for lon_r in lon_rs:\n",
        "  plot(nit_vs,day_vs,lons,lats,lat_r,lon_r,save_path)\n",
        "\n",
        "# create gif\n",
        "creat_gif(save_path,save_gif,lat_r)"
      ],
      "metadata": {
        "id": "OGbO-w-Bu9pu"
      },
      "execution_count": null,
      "outputs": []
    },
    {
      "cell_type": "code",
      "source": [
        "save_path='/content/drive/MyDrive/LST_plot'\n",
        "save_gif='/content/drive/MyDrive/globe_lst.gif'\n",
        "lat_r=20\n",
        "creat_gif(save_path,save_gif,lat_r)\n",
        "\n"
      ],
      "metadata": {
        "id": "Eywo1wfwyUf7"
      },
      "execution_count": null,
      "outputs": []
    }
  ]
}